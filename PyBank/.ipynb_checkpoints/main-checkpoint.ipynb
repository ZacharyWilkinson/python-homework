{
 "cells": [
  {
   "cell_type": "code",
   "execution_count": 221,
   "id": "60ca3408-e36d-468d-9913-7b27e4c2df21",
   "metadata": {},
   "outputs": [],
   "source": [
    "import numpy as np\n",
    "import numpy_financial as npf\n",
    "import math\n",
    "from pathlib import Path\n",
    "import csv\n",
    "\n",
    "# Set the file path\n",
    "csvpath=Path('./Resources/budget_data.csv')\n",
    "profit_losses = []\n",
    "total_months = []\n",
    "# Variables\n",
    "profit_losses = []\n",
    "count_profit_losses = 0\n",
    "min_profit_losses = 0\n",
    "max_profit_losses = 0\n",
    "count_profit_losses = 0\n",
    "total_profit_losses = 0\n",
    "avg_profit = 0 \n",
    "number_months = 0\n",
    "# Open the input path as a file object\n",
    "with open(csvpath, 'r') as csvfile:\n",
    "    csvreader = csv.reader(csvfile, delimiter=',')\n",
    "    header = next(csvreader)\n",
    "    for row in csvreader:\n",
    "        number_months += 1\n",
    "        count = int(row[1])\n",
    "        profit_losses.append(count)\n",
    "        # Calculate Average \n",
    "avg_profit = round(total_profit_losses / number_months, 2)\n",
    "print(total_profit_losses, number_months)"
   ]
  },
  {
   "cell_type": "code",
   "execution_count": 222,
   "id": "7e85bc5c-399f-4033-ad41-c089e81ff876",
   "metadata": {},
   "outputs": [],
   "source": [
    "# Set the file path\n",
    "csvpath=Path('./Resources/budget_data.csv')"
   ]
  },
  {
   "cell_type": "code",
   "execution_count": 223,
   "id": "2e24bcce-96bc-49e2-a133-bdbbede4e70c",
   "metadata": {},
   "outputs": [],
   "source": [
    "profit_losses = []\n",
    "total_months = []"
   ]
  },
  {
   "cell_type": "code",
   "execution_count": 224,
   "id": "cf589839-f205-4a01-932a-ec782c58739e",
   "metadata": {},
   "outputs": [],
   "source": [
    "# Variables\n",
    "profit_losses = []\n",
    "count_profit_losses = 0\n",
    "min_profit_losses = 0\n",
    "max_profit_losses = 0\n",
    "count_profit_losses = 0\n",
    "total_profit_losses = 0\n",
    "avg_profit = 0 \n",
    "number_months = 0"
   ]
  },
  {
   "cell_type": "code",
   "execution_count": 225,
   "id": "d83f30f5-9459-4b6c-a7c5-a40f6c3354e5",
   "metadata": {},
   "outputs": [],
   "source": [
    "# Open the input path as a file object\n",
    "with open(csvpath, 'r') as csvfile:\n",
    "    csvreader = csv.reader(csvfile, delimiter=',')\n",
    "    header = next(csvreader)\n",
    "    for row in csvreader:\n",
    "        number_months += 1\n",
    "        count = int(row[1])\n",
    "        profit_losses.append(count)"
   ]
  },
  {
   "cell_type": "code",
   "execution_count": 233,
   "id": "de056034-8ba3-49da-8e1d-209f48ce2ff8",
   "metadata": {},
   "outputs": [
    {
     "name": "stdout",
     "output_type": "stream",
     "text": [
      "76765156 86\n"
     ]
    }
   ],
   "source": [
    "# Calculate Average \n",
    "avg_profit = round(total_profit_losses / number_months, 2)\n",
    "print(total_profit_losses, number_months)"
   ]
  },
  {
   "cell_type": "code",
   "execution_count": 234,
   "id": "a534005e-6844-44b0-aed8-320607ba472a",
   "metadata": {},
   "outputs": [],
   "source": [
    "for count in profit_losses:\n",
    "    total_profit_losses += count\n",
    "    count_profit_losses += 1\n",
    "    if min_profit_losses == 0:\n",
    "        min_profit_losses = count\n",
    "    elif count > max_profit_losses:\n",
    "        max_profit_losses = count\n",
    "    elif count < min_profit_losses:\n",
    "        min_profit_losses = count"
   ]
  },
  {
   "cell_type": "code",
   "execution_count": 235,
   "id": "e3b316a9-5ee9-4bd1-9f34-d7c0bbe44d9e",
   "metadata": {},
   "outputs": [
    {
     "name": "stdout",
     "output_type": "stream",
     "text": [
      "1170593 -1196225 892618.09 115147734\n"
     ]
    }
   ],
   "source": [
    "print(max_profit_losses, min_profit_losses, avg_profit, total_profit_losses)"
   ]
  },
  {
   "cell_type": "code",
   "execution_count": 207,
   "id": "4c287bee-a853-4c86-a65f-a67fc6b7365b",
   "metadata": {},
   "outputs": [
    {
     "name": "stdout",
     "output_type": "stream",
     "text": [
      "Financial Analysis\n",
      "-----------------------------\n",
      "\n",
      "\n",
      "\n",
      "\n",
      "\n",
      "\n"
     ]
    }
   ],
   "source": [
    "print(\"\"\"Financial Analysis\n",
    "-----------------------------\n",
    "\n",
    "\n",
    "\n",
    "\n",
    "\n",
    "\"\"\")\n"
   ]
  },
  {
   "cell_type": "code",
   "execution_count": null,
   "id": "e1602a71-aff3-44d5-957d-025bb5851921",
   "metadata": {},
   "outputs": [],
   "source": []
  }
 ],
 "metadata": {
  "kernelspec": {
   "display_name": "Python 3 (ipykernel)",
   "language": "python",
   "name": "python3"
  },
  "language_info": {
   "codemirror_mode": {
    "name": "ipython",
    "version": 3
   },
   "file_extension": ".py",
   "mimetype": "text/x-python",
   "name": "python",
   "nbconvert_exporter": "python",
   "pygments_lexer": "ipython3",
   "version": "3.9.13"
  }
 },
 "nbformat": 4,
 "nbformat_minor": 5
}
