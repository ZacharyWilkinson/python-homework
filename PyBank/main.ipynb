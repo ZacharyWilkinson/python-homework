{
 "cells": [
  {
   "cell_type": "code",
   "execution_count": 14,
   "id": "60ca3408-e36d-468d-9913-7b27e4c2df21",
   "metadata": {},
   "outputs": [],
   "source": [
    "import numpy as np\n",
    "import numpy_financial as npf\n",
    "import math\n",
    "from pathlib import Path\n",
    "import csv"
   ]
  },
  {
   "cell_type": "code",
   "execution_count": 15,
   "id": "7e85bc5c-399f-4033-ad41-c089e81ff876",
   "metadata": {},
   "outputs": [],
   "source": [
    "# Set the file path\n",
    "csvpath=Path('./Resources/budget_data.csv')"
   ]
  },
  {
   "cell_type": "code",
   "execution_count": 28,
   "id": "2968dc94-d169-4823-a8b7-3eca4a2ff05a",
   "metadata": {},
   "outputs": [],
   "source": [
    "# Creating a function that will calculate and print the total months, total value, average change, greatest increase in profits, and greatest decrease in profits-\n",
    "# Inputting a list with a date and an integer\n",
    "def analysis(list_in):\n",
    "# Setting variables\n",
    "    count = 0 # Number of rows\n",
    "    previous_num = 0 # Integer of previous row\n",
    "    ROC_total = 0 # Sum of change\n",
    "    total = 0 # Sum of integers\n",
    "    mini = 0 # Minimum of change\n",
    "    maxi = 0 # Maximum of change\n",
    "    mini_date = '' # Date of minimum change\n",
    "    maxi_date = '' # Date of maximum change\n",
    "# Creating for loop that will calculate minumum, maximum, total changes, and count of rows\n",
    "    for row in list_in:\n",
    "        # Storing current row values\n",
    "        this_num = int(row[1]) \n",
    "        this_date = row[0]\n",
    "        # Calculating change from previous row\n",
    "        change = this_num - previous_num\n",
    "        # Calculating minimum/maximum\n",
    "        if change > maxi:\n",
    "            maxi = change\n",
    "            maxi_date = this_date\n",
    "        if change < mini:\n",
    "            mini = change\n",
    "            mini_date = this_date\n",
    "        # Calculates ROC total, while skipping the first row\n",
    "        if count > 0:\n",
    "            ROC_total+= change\n",
    "        total += this_num\n",
    "        count += 1\n",
    "        previous_num = this_num\n",
    "    # Calculating the average change over the data set. -1 is to not count the first row\n",
    "    ROC = round(ROC_total / (count - 1), 2)\n",
    "# print values\n",
    "    print(f'total months:\\t{count}')\n",
    "    print(f'total:\\t{total}')\n",
    "    print(f'Average Change:\\t{ROC}')\n",
    "    print(f'Greatest Increase:\\t{maxi_date} {maxi}')\n",
    "    print(f'Greatest Decrease:\\t{mini_date} {mini}')"
   ]
  },
  {
   "cell_type": "code",
   "execution_count": 29,
   "id": "d83f30f5-9459-4b6c-a7c5-a40f6c3354e5",
   "metadata": {},
   "outputs": [
    {
     "name": "stdout",
     "output_type": "stream",
     "text": [
      "total months:\t86\n",
      "total:\t38382578\n",
      "Average Change:\t-2315.12\n",
      "Greatest Increase:\tFeb-2012 1926159\n",
      "Greatest Decrease:\tSep-2013 -2196167\n"
     ]
    }
   ],
   "source": [
    "# Open the input path as a file object\n",
    "with open(csvpath, 'r') as csvfile:\n",
    "    csvreader = csv.reader(csvfile, delimiter=',')\n",
    "    header = next(csvreader)\n",
    "    analysis(csvreader)"
   ]
  }
 ],
 "metadata": {
  "kernelspec": {
   "display_name": "Python 3 (ipykernel)",
   "language": "python",
   "name": "python3"
  },
  "language_info": {
   "codemirror_mode": {
    "name": "ipython",
    "version": 3
   },
   "file_extension": ".py",
   "mimetype": "text/x-python",
   "name": "python",
   "nbconvert_exporter": "python",
   "pygments_lexer": "ipython3",
   "version": "3.9.13"
  }
 },
 "nbformat": 4,
 "nbformat_minor": 5
}
